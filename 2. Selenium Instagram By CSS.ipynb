{
 "cells": [
  {
   "cell_type": "code",
   "execution_count": 1,
   "id": "71ab275e",
   "metadata": {},
   "outputs": [],
   "source": [
    "from selenium import webdriver\n",
    "from selenium.webdriver.common.keys import Keys\n",
    "from selenium.webdriver.support import expected_conditions as EC\n",
    "from selenium.webdriver.common.by import By\n",
    "from selenium.webdriver.support.wait import WebDriverWait\n",
    "import time\n",
    "import wget"
   ]
  },
  {
   "cell_type": "code",
   "execution_count": 66,
   "id": "226ce261",
   "metadata": {},
   "outputs": [],
   "source": [
    "driver=webdriver.Chrome()\n",
    "driver.get(\"https://www.instagram.com\")\n",
    "time.sleep(3)"
   ]
  },
  {
   "cell_type": "code",
   "execution_count": 67,
   "id": "02631673",
   "metadata": {},
   "outputs": [],
   "source": [
    "css='input[name=\"username\"]'\n",
    "username=WebDriverWait(driver,10).until(EC.element_to_be_clickable((By.CSS_SELECTOR,css)))\n",
    "username.clear()\n",
    "username.send_keys(\"nightmare_duudee\")"
   ]
  },
  {
   "cell_type": "code",
   "execution_count": 68,
   "id": "c8ae1db4",
   "metadata": {},
   "outputs": [],
   "source": [
    "css='input[type=\"password\"]'\n",
    "password=WebDriverWait(driver,10).until(EC.element_to_be_clickable((By.CSS_SELECTOR,css)))\n",
    "password.clear()\n",
    "password.send_keys(pss)\n"
   ]
  },
  {
   "cell_type": "code",
   "execution_count": 69,
   "id": "85b4afd4",
   "metadata": {},
   "outputs": [],
   "source": [
    "css='button[class=\"sqdOP  L3NKy   y3zKF     \"]'\n",
    "button=WebDriverWait(driver,10).until(EC.element_to_be_clickable((By.CSS_SELECTOR,css)))\n",
    "button.click()\n",
    "time.sleep(3)\n"
   ]
  },
  {
   "cell_type": "code",
   "execution_count": 70,
   "id": "eeae1f63",
   "metadata": {},
   "outputs": [],
   "source": [
    "path='//button[contains(text(), \"Not Now\")]'\n",
    "not_now=WebDriverWait(driver,10).until(EC.element_to_be_clickable((By.XPATH,path)))\n",
    "not_now.click()\n",
    "time.sleep(3)"
   ]
  },
  {
   "cell_type": "code",
   "execution_count": 71,
   "id": "86ef3e55",
   "metadata": {},
   "outputs": [],
   "source": [
    "path='//button[contains(text(), \"Not Now\")]'\n",
    "not_now2=WebDriverWait(driver,10).until(EC.element_to_be_clickable((By.XPATH,path)))\n",
    "not_now2.click()\n",
    "time.sleep(3)"
   ]
  },
  {
   "cell_type": "code",
   "execution_count": 72,
   "id": "8016485a",
   "metadata": {},
   "outputs": [],
   "source": [
    "css='input[placeholder=\"Search\"]'\n",
    "search_box=WebDriverWait(driver,10).until(EC.element_to_be_clickable((By.CSS_SELECTOR,css)))\n",
    "profile=\"@rutuja_mane3773\"\n",
    "search_box.clear()\n",
    "search_box.send_keys(profile)\n",
    "time.sleep(3)\n"
   ]
  },
  {
   "cell_type": "code",
   "execution_count": 73,
   "id": "cb1e9aa3",
   "metadata": {},
   "outputs": [],
   "source": [
    "css='a[class=\"-qQT3\"]'\n",
    "search_click=WebDriverWait(driver,10).until(EC.element_to_be_clickable((By.CSS_SELECTOR,css)))\n",
    "search_click.click()\n",
    "time.sleep(3)"
   ]
  },
  {
   "cell_type": "code",
   "execution_count": 76,
   "id": "50043227",
   "metadata": {},
   "outputs": [
    {
     "name": "stderr",
     "output_type": "stream",
     "text": [
      "C:\\Users\\Y.T\\AppData\\Local\\Temp/ipykernel_5596/1575325913.py:7: DeprecationWarning: find_elements_by_tag_name is deprecated. Please use find_elements(by=By.TAG_NAME, value=name) instead\n",
      "  anchor=driver.find_elements_by_tag_name(\"a\")\n"
     ]
    }
   ],
   "source": [
    "anchors=[]\n",
    "n_scroll=2\n",
    "start=0\n",
    "end=800\n",
    "for i in range(n_scroll):\n",
    "    driver.execute_script(f\"window.scroll({start},{end});\")\n",
    "    anchor=driver.find_elements_by_tag_name(\"a\") \n",
    "    anchor=[i.get_attribute(\"href\") for i in anchor]\n",
    "    anchor=[i for i in anchor if str(i).startswith(\"https://www.instagram.com/p\")]\n",
    "    anchors.extend(anchor)\n",
    "    start+=800\n",
    "    end+=800\n",
    "    time.sleep(3)\n",
    "    "
   ]
  },
  {
   "cell_type": "code",
   "execution_count": 79,
   "id": "3999b949",
   "metadata": {},
   "outputs": [],
   "source": [
    "anchors=list(set(anchors))"
   ]
  },
  {
   "cell_type": "code",
   "execution_count": 80,
   "id": "ec99f7bb",
   "metadata": {},
   "outputs": [
    {
     "data": {
      "text/plain": [
       "['https://www.instagram.com/p/CEjs-y7FdcnnqPWd6z0BeVmLdBjb3_WAH2vqgA0/',\n",
       " 'https://www.instagram.com/p/CEjqWgNlTIUwcnRDu3nPis_eixEIT-riVjnB2I0/',\n",
       " 'https://www.instagram.com/p/CEgqzKxlSgF7jJCimwWsGa1Jbe1xuG4eNRHbaY0/',\n",
       " 'https://www.instagram.com/p/CXLjjKADCLXls7iH88Vy3Net6TqcVGJSitTEqY0/',\n",
       " 'https://www.instagram.com/p/CEo9he6l71PsHLCWuqyfm2OpdUwSVugQTO5tJM0/',\n",
       " 'https://www.instagram.com/p/CEqUJITl-im16aUrfzxOmWN4Pg3i1_lq20mFNo0/',\n",
       " 'https://www.instagram.com/p/CEgrLtTFsFmYMo1otDbX3nl5aDrFtfDf7uw5w40/',\n",
       " 'https://www.instagram.com/p/CWqtnQlDXFcMyu0MdaGsxhMPNQ0KikD_C9u5m00/',\n",
       " 'https://www.instagram.com/p/CEjsZyjl4toCpK0zDhu_pNRVNfccDlBH84brj40/']"
      ]
     },
     "execution_count": 80,
     "metadata": {},
     "output_type": "execute_result"
    }
   ],
   "source": [
    "anchors"
   ]
  },
  {
   "cell_type": "code",
   "execution_count": 81,
   "id": "141193ab",
   "metadata": {},
   "outputs": [
    {
     "name": "stderr",
     "output_type": "stream",
     "text": [
      "C:\\Users\\Y.T\\AppData\\Local\\Temp/ipykernel_5596/4013541933.py:5: DeprecationWarning: find_element_by_tag_name is deprecated. Please use find_element(by=By.TAG_NAME, value=name) instead\n",
      "  img=driver.find_element_by_tag_name(\"img\")\n"
     ]
    }
   ],
   "source": [
    "images=[]\n",
    "for i in anchors:\n",
    "    driver.get(i)\n",
    "    time.sleep(3)\n",
    "    img=driver.find_element_by_tag_name(\"img\")\n",
    "    img=img.get_attribute(\"src\")\n",
    "    images.append(img)\n",
    "    \n",
    "    "
   ]
  },
  {
   "cell_type": "code",
   "execution_count": 82,
   "id": "0caf57c0",
   "metadata": {},
   "outputs": [
    {
     "data": {
      "text/plain": [
       "['https://instagram.fkhi17-1.fna.fbcdn.net/v/t51.2885-15/118607422_314457333148536_8089769087038349781_n.jpg?stp=dst-jpg_e35&_nc_ht=instagram.fkhi17-1.fna.fbcdn.net&_nc_cat=100&_nc_ohc=P881vhYFbNsAX_hepeP&tn=1nOFROjcDm3AdGHC&edm=AABBvjUBAAAA&ccb=7-4&ig_cache_key=MjM4Nzk1MDA1Njc2ODkxOTMzNQ%3D%3D.2-ccb7-4&oh=00_AT_djs5wQ5PazF3WozOSgCUGT-UHe8Kjpgt6_ESXfyIOMA&oe=624D32A7&_nc_sid=83d603',\n",
       " 'https://instagram.fkhi17-1.fna.fbcdn.net/v/t51.2885-15/118516823_174788597505522_8079160542946663275_n.jpg?stp=dst-jpg_e35&_nc_ht=instagram.fkhi17-1.fna.fbcdn.net&_nc_cat=106&_nc_ohc=TShkZf6k8SsAX-PqBKj&edm=AABBvjUBAAAA&ccb=7-4&ig_cache_key=MjM4NzkzODQ5MTgwNjA2OTI2OA%3D%3D.2-ccb7-4&oh=00_AT-V6UpUA0ncy6XsELwkVxoXmMrFAA4U4hF913oiFhY8HQ&oe=624D7390&_nc_sid=83d603',\n",
       " 'https://instagram.fkhi17-1.fna.fbcdn.net/v/t51.2885-15/118553048_336892377355040_4666127547428045547_n.jpg?stp=dst-jpg_e35&_nc_ht=instagram.fkhi17-1.fna.fbcdn.net&_nc_cat=108&_nc_ohc=Q6WjzGDit9EAX_w8Sq4&edm=AABBvjUBAAAA&ccb=7-4&ig_cache_key=MjM4NzA5NjAzNjcyMjQxOTcxNw%3D%3D.2-ccb7-4&oh=00_AT-QQuFPIeF-iZiosk4xr0i2Rh-naK0OcAgcEqdI0m4nBA&oe=624D01D2&_nc_sid=83d603',\n",
       " 'https://scontent-waw1-1.cdninstagram.com/v/t51.2885-19/44884218_345707102882519_2446069589734326272_n.jpg?efg=eyJybWQiOiJpZ19hbmRyb2lkX21vYmlsZV9uZXR3b3JrX3N0YWNrX2xpbWl0X2h0dHAyX2Nvbm5lY3Rpb25zOm5vX2xpbWl0In0&_nc_ht=scontent-waw1-1.cdninstagram.com&_nc_cat=1&_nc_ohc=smQhws8d1SoAX8fGsOU&edm=AEVnrqQBAAAA&ccb=7-4&ig_cache_key=YW5vbnltb3VzX3Byb2ZpbGVfcGlj.2-ccb7-4&oh=00_AT8ljcEUvwbs_YHhzBAmJYo1a6T9dsZvR5W0rfqFFqhdzQ&oe=624E490F&_nc_sid=3ae735',\n",
       " 'https://instagram.fkhi17-1.fna.fbcdn.net/v/t51.2885-15/118592858_114998153522333_4641254978776863057_n.jpg?stp=dst-jpg_e35&_nc_ht=instagram.fkhi17-1.fna.fbcdn.net&_nc_cat=105&_nc_ohc=oIUblkK9A-0AX9BvgUj&edm=AABBvjUBAAAA&ccb=7-4&ig_cache_key=MjM4OTQzMDE4NDA5NTIzNTQwNw%3D%3D.2-ccb7-4&oh=00_AT_n5LzJiDf_yoJ5AgE6ovPuirEHfaAPw09IrLg6Axxs4w&oe=624E0EF6&_nc_sid=83d603',\n",
       " 'https://instagram.fkhi17-1.fna.fbcdn.net/v/t51.2885-15/118696481_670279650240154_9159106141587805536_n.jpg?stp=dst-jpg_e35&_nc_ht=instagram.fkhi17-1.fna.fbcdn.net&_nc_cat=110&_nc_ohc=lKqaTpnShHUAX_TfSAF&edm=AABBvjUBAAAA&ccb=7-4&ig_cache_key=MjM4OTgxMTE0MDU5NzYzOTMzNA%3D%3D.2-ccb7-4&oh=00_AT9xfbPAGAub6JRced16RvP8gi36ISJ3aTYbDOVH34FL4Q&oe=624D73B6&_nc_sid=83d603',\n",
       " 'https://instagram.fkhi17-1.fna.fbcdn.net/v/t51.2885-15/118433884_164119135258957_809621526103597507_n.jpg?stp=dst-jpg_e35&_nc_ht=instagram.fkhi17-1.fna.fbcdn.net&_nc_cat=101&_nc_ohc=YqxES2QURrIAX-GN5lV&edm=AABBvjUBAAAA&ccb=7-4&ig_cache_key=MjM4NzA5NzcyMzA1OTIyNDkzNA%3D%3D.2-ccb7-4&oh=00_AT9SXrYElCWE1-FVVpk8gVdqAVDZ1DC4pXHktc1mEqMVhQ&oe=624D60B8&_nc_sid=83d603',\n",
       " 'https://instagram.ffih1-2.fna.fbcdn.net/v/t51.2885-19/44884218_345707102882519_2446069589734326272_n.jpg?_nc_ht=instagram.ffih1-2.fna.fbcdn.net&_nc_cat=1&_nc_ohc=smQhws8d1SoAX9eKJbH&edm=ALlQn9MBAAAA&ccb=7-4&ig_cache_key=YW5vbnltb3VzX3Byb2ZpbGVfcGlj.2-ccb7-4&oh=00_AT8di2g8TGTKLVRyVhigfMCOyyO5ulU9Jy-2__x3RWDC_w&oe=624E490F&_nc_sid=48a2a6',\n",
       " 'https://instagram.fkhi17-1.fna.fbcdn.net/v/t51.2885-15/118502866_359365355080087_7500129320628532220_n.jpg?stp=dst-jpg_e35&_nc_ht=instagram.fkhi17-1.fna.fbcdn.net&_nc_cat=107&_nc_ohc=7ZFVqkhiqFQAX9Mf8Su&edm=AABBvjUBAAAA&ccb=7-4&ig_cache_key=MjM4Nzk0NzUxMzc1NDEyNzIwOA%3D%3D.2-ccb7-4&oh=00_AT_P7Hksyf5IGPBJIr1fFLXH5Gy9lU7Pwk7DpIyy-K2k8A&oe=624CC524&_nc_sid=83d603']"
      ]
     },
     "execution_count": 82,
     "metadata": {},
     "output_type": "execute_result"
    }
   ],
   "source": [
    "images"
   ]
  },
  {
   "cell_type": "code",
   "execution_count": 83,
   "id": "39215690",
   "metadata": {},
   "outputs": [
    {
     "data": {
      "text/plain": [
       "9"
      ]
     },
     "execution_count": 83,
     "metadata": {},
     "output_type": "execute_result"
    }
   ],
   "source": [
    "len(images)"
   ]
  },
  {
   "cell_type": "code",
   "execution_count": 86,
   "id": "64a79e0f",
   "metadata": {},
   "outputs": [],
   "source": [
    "import os\n",
    "path=os.getcwd()\n",
    "path=os.path.join(path,profile[1:])"
   ]
  },
  {
   "cell_type": "code",
   "execution_count": 87,
   "id": "77f19e86",
   "metadata": {},
   "outputs": [],
   "source": [
    "os.mkdir(path)"
   ]
  },
  {
   "cell_type": "code",
   "execution_count": 89,
   "id": "c0544dde",
   "metadata": {},
   "outputs": [
    {
     "name": "stdout",
     "output_type": "stream",
     "text": [
      "100% [..............................................................................] 63960 / 63960"
     ]
    }
   ],
   "source": [
    "counter=0\n",
    "for image in images:\n",
    "    counter+=1\n",
    "    save_as=os.path.join(path,profile[1:]+str(counter)+ \".jpeg\")\n",
    "    wget.download(image,save_as)"
   ]
  },
  {
   "cell_type": "code",
   "execution_count": null,
   "id": "c8067e5a",
   "metadata": {},
   "outputs": [],
   "source": []
  }
 ],
 "metadata": {
  "kernelspec": {
   "display_name": "Python 3 (ipykernel)",
   "language": "python",
   "name": "python3"
  },
  "language_info": {
   "codemirror_mode": {
    "name": "ipython",
    "version": 3
   },
   "file_extension": ".py",
   "mimetype": "text/x-python",
   "name": "python",
   "nbconvert_exporter": "python",
   "pygments_lexer": "ipython3",
   "version": "3.9.7"
  }
 },
 "nbformat": 4,
 "nbformat_minor": 5
}
