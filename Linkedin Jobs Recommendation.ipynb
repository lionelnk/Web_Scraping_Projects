{
 "cells": [
  {
   "cell_type": "code",
   "execution_count": 1,
   "id": "c16ff2e1",
   "metadata": {},
   "outputs": [],
   "source": [
    "from selenium import webdriver\n",
    "from selenium.webdriver.common.keys import Keys\n",
    "from selenium.webdriver.support import expected_conditions as EC\n",
    "from selenium.webdriver.common.by import By\n",
    "from selenium.webdriver.support.wait import WebDriverWait\n",
    "import time\n",
    "import wget\n",
    "import pandas"
   ]
  },
  {
   "cell_type": "code",
   "execution_count": 2,
   "id": "39022011",
   "metadata": {},
   "outputs": [
    {
     "name": "stderr",
     "output_type": "stream",
     "text": [
      "C:\\Users\\Y.T\\AppData\\Local\\Temp/ipykernel_11888/1656719500.py:4: DeprecationWarning: use options instead of chrome_options\n",
      "  driver = webdriver.Chrome(chrome_options=chrome_options)\n"
     ]
    }
   ],
   "source": [
    "chrome_options = webdriver.ChromeOptions()\n",
    "prefs = {\"profile.default_content_setting_values.notifications\" : 2}\n",
    "chrome_options.add_experimental_option(\"prefs\",prefs)\n",
    "driver = webdriver.Chrome(chrome_options=chrome_options)\n",
    "driver.set_window_size(1350,1000)"
   ]
  },
  {
   "cell_type": "code",
   "execution_count": 3,
   "id": "ee3e110f",
   "metadata": {},
   "outputs": [],
   "source": [
    "driver.get(\"https://www.linkedin.com/\")\n",
    "time.sleep(3)"
   ]
  },
  {
   "cell_type": "code",
   "execution_count": 4,
   "id": "d7e75079",
   "metadata": {},
   "outputs": [],
   "source": [
    "css='input[autocomplete=\"username\"]'\n",
    "username=WebDriverWait(driver,10).until(EC.element_to_be_clickable((By.CSS_SELECTOR,css)))\n",
    "username.clear()\n",
    "username.send_keys(\"nk204746@gmail.com\")"
   ]
  },
  {
   "cell_type": "code",
   "execution_count": 5,
   "id": "4f07484b",
   "metadata": {},
   "outputs": [],
   "source": [
    "pss=\"ufone03322350573\""
   ]
  },
  {
   "cell_type": "code",
   "execution_count": 6,
   "id": "9f750ede",
   "metadata": {},
   "outputs": [],
   "source": [
    "css='input[autocomplete=\"current-password\"]'\n",
    "username=WebDriverWait(driver,10).until(EC.element_to_be_clickable((By.CSS_SELECTOR,css)))\n",
    "username.clear()\n",
    "username.send_keys(pss)"
   ]
  },
  {
   "cell_type": "code",
   "execution_count": 7,
   "id": "175681a5",
   "metadata": {},
   "outputs": [],
   "source": [
    "path='//button[contains(text(),\"Sign in\")]'\n",
    "button=WebDriverWait(driver,10).until(EC.element_to_be_clickable((By.XPATH,path)))\n",
    "button.click()\n",
    "time.sleep(3)"
   ]
  },
  {
   "cell_type": "code",
   "execution_count": 8,
   "id": "76594544",
   "metadata": {},
   "outputs": [],
   "source": [
    "driver.get(\"https://www.linkedin.com/jobs/\")"
   ]
  },
  {
   "cell_type": "code",
   "execution_count": 13,
   "id": "dbbb7fc4",
   "metadata": {},
   "outputs": [
    {
     "name": "stderr",
     "output_type": "stream",
     "text": [
      "C:\\Users\\Y.T\\AppData\\Local\\Temp/ipykernel_11888/3232607022.py:2: DeprecationWarning: find_elements_by_class_name is deprecated. Please use find_elements(by=By.CLASS_NAME, value=name) instead\n",
      "  section=driver.find_elements_by_class_name(\"artdeco-card\")\n"
     ]
    }
   ],
   "source": [
    "div=\"\"\n",
    "section=driver.find_elements_by_class_name(\"artdeco-card\")\n",
    "for i in section:\n",
    "    if str(i.text).startswith(\"Recommended for you\"):\n",
    "        div=i\n",
    "    \n",
    "    "
   ]
  },
  {
   "cell_type": "code",
   "execution_count": 16,
   "id": "633736c6",
   "metadata": {},
   "outputs": [
    {
     "name": "stderr",
     "output_type": "stream",
     "text": [
      "E:\\Anaconda3.9\\lib\\site-packages\\selenium\\webdriver\\remote\\webelement.py:359: UserWarning: find_elements_by_tag_name is deprecated. Please use find_elements(by=By.TAG_NAME, value=name) instead\n",
      "  warnings.warn(\"find_elements_by_tag_name is deprecated. Please use find_elements(by=By.TAG_NAME, value=name) instead\")\n"
     ]
    }
   ],
   "source": [
    "anchors=div.find_elements_by_tag_name(\"a\")"
   ]
  },
  {
   "cell_type": "code",
   "execution_count": 18,
   "id": "889f62c6",
   "metadata": {},
   "outputs": [],
   "source": [
    "anchors=[i.get_attribute(\"href\") for i in anchors if str(i.get_attribute(\"href\")).startswith(\"https://www.linkedin.com/jobs/collections/recommended/\")]"
   ]
  },
  {
   "cell_type": "code",
   "execution_count": 21,
   "id": "847d155f",
   "metadata": {},
   "outputs": [],
   "source": [
    "anchors=list(set(anchors))"
   ]
  },
  {
   "cell_type": "code",
   "execution_count": 22,
   "id": "34a98318",
   "metadata": {},
   "outputs": [
    {
     "data": {
      "text/plain": [
       "['https://www.linkedin.com/jobs/collections/recommended/?currentJobId=3009196769',\n",
       " 'https://www.linkedin.com/jobs/collections/recommended/?currentJobId=3013141516',\n",
       " 'https://www.linkedin.com/jobs/collections/recommended/?currentJobId=3014336321']"
      ]
     },
     "execution_count": 22,
     "metadata": {},
     "output_type": "execute_result"
    }
   ],
   "source": [
    "anchors"
   ]
  },
  {
   "cell_type": "code",
   "execution_count": 26,
   "id": "da066cd1",
   "metadata": {},
   "outputs": [
    {
     "data": {
      "text/plain": [
       "'https://www.linkedin.com/jobs/collections/recommended/?currentJobId=3009196769'"
      ]
     },
     "execution_count": 26,
     "metadata": {},
     "output_type": "execute_result"
    }
   ],
   "source": [
    "anchors[0]"
   ]
  },
  {
   "cell_type": "code",
   "execution_count": 28,
   "id": "991e45c9",
   "metadata": {},
   "outputs": [],
   "source": [
    "driver.get(anchors[0])\n",
    "time.sleep(3)"
   ]
  },
  {
   "cell_type": "code",
   "execution_count": 53,
   "id": "69361070",
   "metadata": {},
   "outputs": [
    {
     "name": "stderr",
     "output_type": "stream",
     "text": [
      "C:\\Users\\Y.T\\AppData\\Local\\Temp/ipykernel_11888/328832276.py:4: DeprecationWarning: find_element_by_class_name is deprecated. Please use find_element(by=By.CLASS_NAME, value=name) instead\n",
      "  job_div=driver.find_element_by_class_name(\"jobs-unified-top-card\")\n"
     ]
    }
   ],
   "source": [
    "jobs_data=[]\n",
    "for i in anchors:\n",
    "    driver.get(i)\n",
    "    job_div=driver.find_element_by_class_name(\"jobs-unified-top-card\")\n",
    "    job_title=job_div.find_element_by_tag_name(\"h2\").text\n",
    "    job_company=job_div.find_element_by_class_name(\"jobs-unified-top-card__company-name\").text\n",
    "    job_location=job_div.find_element_by_class_name(\"jobs-unified-top-card__bullet\").text\n",
    "    job_status=job_div.find_elements_by_class_name(\"jobs-unified-top-card__job-insight\")\n",
    "    job_status= [i.text for i in job_status[:2]]\n",
    "    job=[job_title,job_company,job_location,job_status[0],job_status[1]]\n",
    "    jobs_data.append(job)\n",
    "\n",
    "\n"
   ]
  },
  {
   "cell_type": "code",
   "execution_count": 54,
   "id": "196ecfe1",
   "metadata": {},
   "outputs": [
    {
     "data": {
      "text/plain": [
       "[['Take the Survey and Get Paid! | Work from Home Opportunities',\n",
       "  'Appen',\n",
       "  'Maryland, United States',\n",
       "  'Part-time · Entry level',\n",
       "  '501-1,000 employees · IT Services and IT Consulting'],\n",
       " ['Part Time Lumber Yard Associate',\n",
       "  'GILLMAN HOME CENTER',\n",
       "  'Hartford City, IN',\n",
       "  'Part-time · Entry level',\n",
       "  '51-200 employees · Wholesale Building Materials'],\n",
       " ['Supply Chain Process Designer II',\n",
       "  'Andersen Corporation',\n",
       "  'Cottage Grove, MN',\n",
       "  'Part-time · Entry level',\n",
       "  '5,001-10,000 employees · Wholesale Building Materials']]"
      ]
     },
     "execution_count": 54,
     "metadata": {},
     "output_type": "execute_result"
    }
   ],
   "source": [
    "jobs_data"
   ]
  },
  {
   "cell_type": "code",
   "execution_count": 56,
   "id": "43723391",
   "metadata": {},
   "outputs": [],
   "source": [
    "import pandas as pd"
   ]
  },
  {
   "cell_type": "code",
   "execution_count": 65,
   "id": "6ac8bceb",
   "metadata": {},
   "outputs": [],
   "source": [
    "jobs_data=pd.DataFrame(jobs_data , columns=[\"job_title\",\"company\",\"location\",\"job_type\",\"Employees & services\"])"
   ]
  },
  {
   "cell_type": "code",
   "execution_count": 62,
   "id": "2d509380",
   "metadata": {},
   "outputs": [
    {
     "data": {
      "text/html": [
       "<div>\n",
       "<style scoped>\n",
       "    .dataframe tbody tr th:only-of-type {\n",
       "        vertical-align: middle;\n",
       "    }\n",
       "\n",
       "    .dataframe tbody tr th {\n",
       "        vertical-align: top;\n",
       "    }\n",
       "\n",
       "    .dataframe thead th {\n",
       "        text-align: right;\n",
       "    }\n",
       "</style>\n",
       "<table border=\"1\" class=\"dataframe\">\n",
       "  <thead>\n",
       "    <tr style=\"text-align: right;\">\n",
       "      <th></th>\n",
       "      <th>job_title</th>\n",
       "      <th>company</th>\n",
       "      <th>location</th>\n",
       "      <th>job_type</th>\n",
       "      <th>Employees &amp; services</th>\n",
       "    </tr>\n",
       "  </thead>\n",
       "  <tbody>\n",
       "    <tr>\n",
       "      <th>0</th>\n",
       "      <td>Take the Survey and Get Paid! | Work from Home...</td>\n",
       "      <td>Appen</td>\n",
       "      <td>Maryland, United States</td>\n",
       "      <td>Part-time · Entry level</td>\n",
       "      <td>501-1,000 employees · IT Services and IT Consu...</td>\n",
       "    </tr>\n",
       "    <tr>\n",
       "      <th>1</th>\n",
       "      <td>Part Time Lumber Yard Associate</td>\n",
       "      <td>GILLMAN HOME CENTER</td>\n",
       "      <td>Hartford City, IN</td>\n",
       "      <td>Part-time · Entry level</td>\n",
       "      <td>51-200 employees · Wholesale Building Materials</td>\n",
       "    </tr>\n",
       "    <tr>\n",
       "      <th>2</th>\n",
       "      <td>Supply Chain Process Designer II</td>\n",
       "      <td>Andersen Corporation</td>\n",
       "      <td>Cottage Grove, MN</td>\n",
       "      <td>Part-time · Entry level</td>\n",
       "      <td>5,001-10,000 employees · Wholesale Building Ma...</td>\n",
       "    </tr>\n",
       "  </tbody>\n",
       "</table>\n",
       "</div>"
      ],
      "text/plain": [
       "                                           job_title               company  \\\n",
       "0  Take the Survey and Get Paid! | Work from Home...                 Appen   \n",
       "1                    Part Time Lumber Yard Associate   GILLMAN HOME CENTER   \n",
       "2                   Supply Chain Process Designer II  Andersen Corporation   \n",
       "\n",
       "                  location                 job_type  \\\n",
       "0  Maryland, United States  Part-time · Entry level   \n",
       "1        Hartford City, IN  Part-time · Entry level   \n",
       "2        Cottage Grove, MN  Part-time · Entry level   \n",
       "\n",
       "                                Employees & services  \n",
       "0  501-1,000 employees · IT Services and IT Consu...  \n",
       "1    51-200 employees · Wholesale Building Materials  \n",
       "2  5,001-10,000 employees · Wholesale Building Ma...  "
      ]
     },
     "execution_count": 62,
     "metadata": {},
     "output_type": "execute_result"
    }
   ],
   "source": [
    "jobs_data"
   ]
  },
  {
   "cell_type": "code",
   "execution_count": 68,
   "id": "9a224a1d",
   "metadata": {},
   "outputs": [],
   "source": [
    "jobs_data.to_excel(\" Linkedin Jobs.xlsx\", index=False)"
   ]
  },
  {
   "cell_type": "code",
   "execution_count": null,
   "id": "623fb8a3",
   "metadata": {},
   "outputs": [],
   "source": []
  }
 ],
 "metadata": {
  "kernelspec": {
   "display_name": "Python 3 (ipykernel)",
   "language": "python",
   "name": "python3"
  },
  "language_info": {
   "codemirror_mode": {
    "name": "ipython",
    "version": 3
   },
   "file_extension": ".py",
   "mimetype": "text/x-python",
   "name": "python",
   "nbconvert_exporter": "python",
   "pygments_lexer": "ipython3",
   "version": "3.9.7"
  }
 },
 "nbformat": 4,
 "nbformat_minor": 5
}
